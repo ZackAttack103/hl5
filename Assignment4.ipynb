{
  "cells": [
    {
      "cell_type": "markdown",
      "metadata": {
        "id": "view-in-github",
        "colab_type": "text"
      },
      "source": [
        "<a href=\"https://colab.research.google.com/github/ZackAttack103/hl5/blob/master/Assignment4.ipynb\" target=\"_parent\"><img src=\"https://colab.research.google.com/assets/colab-badge.svg\" alt=\"Open In Colab\"/></a>"
      ]
    },
    {
      "cell_type": "markdown",
      "metadata": {
        "id": "Wf5KrEb6vrkR"
      },
      "source": [
        "# Introduction to Digital Image Processing\n",
        "## Course Code: 361.1.4751\n",
        "### Exercise 4 - Edges and Hough Transform\n",
        "\n",
        "For any questions regarding this assignment, please refer to the course forum on the Moodle website. For personal questions, **only** please email [karmis@post.bgu.ac.il](mailto:karmis@post.bgu.ac.il).\n"
      ]
    },
    {
      "cell_type": "markdown",
      "source": [
        "\n",
        "\n",
        "```\n",
        "Zack Kahn 327157475\n",
        "Tali Dror 206858441\n",
        "```\n",
        "\n"
      ],
      "metadata": {
        "id": "-J1Hm6ki3GIk"
      }
    },
    {
      "cell_type": "markdown",
      "source": [
        "Start by setting up a Google Colab notebook in which to do your work.\n",
        "Since you are working with a partner, you might find this link helpful:\n",
        "\n",
        "- https://colab.research.google.com/github/googlecolab/colabtools/blob/master/notebooks/colab-github-demo.ipynb\n",
        "\n",
        "The recommended way to work together is pair coding, where you and your partner are sitting together and writing code together.\n"
      ],
      "metadata": {
        "id": "9raf_9UM55_T"
      }
    },
    {
      "cell_type": "markdown",
      "source": [
        "Now that your notebook is set up, we can load the data into the notebook. The code below load the data through mounting Google Drive.\n",
        "Copy the attached files to your drive and make sure that you save the images outputs also on your drive.   \n",
        "\n",
        "Here are some resources to help you get started:\n",
        "\n",
        "- http://colab.research.google.com/notebooks/io.ipynb"
      ],
      "metadata": {
        "id": "fNCgayR76Ci8"
      }
    },
    {
      "cell_type": "code",
      "source": [
        "from google.colab import drive\n",
        "drive.mount('/content/gdrive')"
      ],
      "metadata": {
        "id": "NEqYghLM6L7C",
        "colab": {
          "base_uri": "https://localhost:8080/"
        },
        "outputId": "cc984d0c-35f8-4b87-dfd4-975055931256"
      },
      "execution_count": 1,
      "outputs": [
        {
          "output_type": "stream",
          "name": "stdout",
          "text": [
            "Mounted at /content/gdrive\n"
          ]
        }
      ]
    },
    {
      "cell_type": "markdown",
      "metadata": {
        "id": "Nma_JWh-W-IF"
      },
      "source": [
        "## 1. Edge Detection\n",
        "\n",
        "### 1.1 Reading the Image\n",
        "Read the image *'cameraman.tif'* and normalize it to the range between \\([0,1]\\). This image is built-in Python, you can import it with `from skimage.data import camera`, and additionally, the image can be found in the provided zip file.\n"
      ]
    },
    {
      "cell_type": "code",
      "execution_count": null,
      "metadata": {
        "id": "zwFnJsE6vjf8"
      },
      "outputs": [],
      "source": [
        "from skimage.data import camera\n",
        "from skimage import img_as_float\n",
        "\n",
        "# Load the built-in 'cameraman.tif' image\n",
        "image = camera()\n",
        "\n",
        "# Normalize the image to the range [0, 1]\n",
        "normalized_image = img_as_float(image)\n",
        "\n",
        "\n"
      ]
    },
    {
      "cell_type": "markdown",
      "metadata": {
        "id": "5fCEDCU_qrC0"
      },
      "source": [
        "### 1.2 Prewitt Edge Detector\n",
        "The Prewitt edge detector was developed to solve some of the problems\n",
        "of the Roberts detector. Its derivative kernels are defined as:\n",
        "\n",
        "\n",
        "\n",
        "$$G_{Px} = \\frac{1}{6}\n",
        "\\begin{pmatrix}\n",
        "-1 & 0 & 1 \\\\\n",
        "-1 & 0 & 1 \\\\\n",
        "-1 & 0 & 1\n",
        "\\end{pmatrix}$$ ;   \n",
        "\n",
        "$$G_{Py} = \\frac{1}{6}\n",
        "\\begin{pmatrix}\n",
        "1 & 1 & 1 \\\\\n",
        "0 & 0 & 0 \\\\\n",
        "-1 & -1 & -1\n",
        "\\end{pmatrix}$$\n",
        "\n",
        "\n",
        "1. Write your own function named *dip_prewitt_edge(img,thresh)* that will apply the Prewitt edge detector on *'img'* and output\n",
        "the edge image with the same size as the input image. The *'thresh'*\n",
        "parameter will determine the gradient magnitude cutoff threshold.\n",
        "\n",
        "**Note:** You don't have to deal with the image boundaries.\n",
        "You should use the *scipy.signal.convolve2d()* function with *mode = 'same'*."
      ]
    },
    {
      "cell_type": "code",
      "source": [],
      "metadata": {
        "id": "1wnZfWAAuatw"
      },
      "execution_count": null,
      "outputs": []
    },
    {
      "cell_type": "markdown",
      "source": [
        "2. Display 2 edge images generated using *dip_prewitt_edge(img,thresh)* with 2 different thresholds, explain the differences between the results."
      ],
      "metadata": {
        "id": "kmGAPd5HvxLN"
      }
    },
    {
      "cell_type": "code",
      "source": [],
      "metadata": {
        "id": "zKWIe5Cuv5wJ"
      },
      "execution_count": null,
      "outputs": []
    },
    {
      "cell_type": "markdown",
      "source": [],
      "metadata": {
        "id": "oYpVa-sfv6YQ"
      }
    },
    {
      "cell_type": "markdown",
      "source": [
        "### 1.3 Canny Edge Detector\n",
        "Read about the *feature.canny(I)* function from *skimage*.\n",
        "\n",
        "What are the optional parameters of this function? What are the default values assigned to these parameters?\n"
      ],
      "metadata": {
        "id": "SrpZRlJxvAda"
      }
    },
    {
      "cell_type": "markdown",
      "source": [],
      "metadata": {
        "id": "hjJkN91oweXO"
      }
    },
    {
      "cell_type": "markdown",
      "source": [
        "Use the Canny edge detector with two sets of parameters: the default set and another set of your choosing.  Explain the difference. Which set is better in your opinion? Explain."
      ],
      "metadata": {
        "id": "vdFEC7J2wjjO"
      }
    },
    {
      "cell_type": "code",
      "source": [],
      "metadata": {
        "id": "LNZD5J5awrU8"
      },
      "execution_count": null,
      "outputs": []
    },
    {
      "cell_type": "markdown",
      "source": [],
      "metadata": {
        "id": "CcEuSVkqwrqg"
      }
    },
    {
      "cell_type": "markdown",
      "source": [
        " If the answer to the question above was \"default options are better\" try to change the parameters for a better result, in your opinion.\n",
        "\n",
        " *Hint:* you can capture a certain parameter used by  *edge* as a second output argument (which one?)."
      ],
      "metadata": {
        "id": "vgOWHtsKwsJv"
      }
    },
    {
      "cell_type": "markdown",
      "source": [],
      "metadata": {
        "id": "iVPhodftw2Gh"
      }
    },
    {
      "cell_type": "markdown",
      "source": [
        "## 2. Hough Transform\n",
        "\n",
        "In this exercise we will learn the Hough transform both for line and\n",
        "circles detection. Please *refrain* from using built-in functions.\n",
        "\n",
        "### 2.1 Hough line transform\n",
        "\n",
        "Read the *floor.jpg* image (enclosed to this exercise), convert it into grayscale image and normalize to $[0,1]$.\n"
      ],
      "metadata": {
        "id": "bF-a_YP6w2r_"
      }
    },
    {
      "cell_type": "code",
      "source": [],
      "metadata": {
        "id": "_-skU3ekxANR"
      },
      "execution_count": null,
      "outputs": []
    },
    {
      "cell_type": "markdown",
      "source": [
        "Read about the built-in Sobel edge detector and use it to extract the edges.\n"
      ],
      "metadata": {
        "id": "GeDQ_rI8ymdz"
      }
    },
    {
      "cell_type": "code",
      "source": [],
      "metadata": {
        "id": "AY5RYfNwylwa"
      },
      "execution_count": null,
      "outputs": []
    },
    {
      "cell_type": "markdown",
      "source": [
        "Write your own *dip_hough_lines(BW,$R_0,\\Theta_0$)* function that calculates\n",
        "the Hough Matrix for finding **lines**. Use 2 different quantization of $R$ and $\\Theta$: $(R_0,\\Theta_0)=(1,1), (R_0,\\Theta_0)=(5,4) $ as explained in the abstract algorithm mentioned below this section.\n"
      ],
      "metadata": {
        "id": "g37GNE7tytaE"
      }
    },
    {
      "cell_type": "code",
      "source": [],
      "metadata": {
        "id": "WHYkQcnAy4t8"
      },
      "execution_count": null,
      "outputs": []
    },
    {
      "cell_type": "markdown",
      "source": [
        "For each of the results in the previous subsection display the Hough matrix using *matplotlib.pyplot*, and explain the results.\n"
      ],
      "metadata": {
        "id": "uHanXbHdy5DR"
      }
    },
    {
      "cell_type": "code",
      "source": [],
      "metadata": {
        "id": "L-kljlXCzC3A"
      },
      "execution_count": null,
      "outputs": []
    },
    {
      "cell_type": "markdown",
      "source": [],
      "metadata": {
        "id": "RS798mcUzDJs"
      }
    },
    {
      "cell_type": "markdown",
      "source": [
        "Find the 4 most significant lines in the BW image, and plot them on the grayscale floor image for each set of  $(R_0,\\Theta_0)$.\n",
        "Use the *hough_line_peaks()* function from *skimage.transform* in order to find the peaks of your Hough matrix.\n"
      ],
      "metadata": {
        "id": "BGR8kktMzExV"
      }
    },
    {
      "cell_type": "code",
      "source": [],
      "metadata": {
        "id": "clElQYqwzDiU"
      },
      "execution_count": null,
      "outputs": []
    },
    {
      "cell_type": "markdown",
      "source": [
        "Explain the results. In your explanation, consider the advantages and disadvantages of high values of $R_0 ,\\Theta_0$ vs. low values.\n"
      ],
      "metadata": {
        "id": "gaEy9U6ozQzi"
      }
    },
    {
      "cell_type": "markdown",
      "source": [],
      "metadata": {
        "id": "leRtnY98zTOy"
      }
    },
    {
      "cell_type": "markdown",
      "source": [
        "###2.2 Hough circle transform\n",
        "\n",
        "Read the *coffee.png* image (enclosed to this exercise), convert it into grayscale image and normalize to $[0,1]$.\n"
      ],
      "metadata": {
        "id": "e_VBLbjPxAxl"
      }
    },
    {
      "cell_type": "code",
      "source": [],
      "metadata": {
        "id": "1yqFoJ1uzd9H"
      },
      "execution_count": null,
      "outputs": []
    },
    {
      "cell_type": "markdown",
      "source": [
        "Extract the edges using the built-in Sobel edge detector.\n"
      ],
      "metadata": {
        "id": "FcROQ-GPzeaH"
      }
    },
    {
      "cell_type": "code",
      "source": [],
      "metadata": {
        "id": "59DQ_QBxzlTt"
      },
      "execution_count": null,
      "outputs": []
    },
    {
      "cell_type": "markdown",
      "source": [
        "Write your own *dip_hough_circles(BW,$R_0,\\Theta_0$)* function that calculates the Hough Matrix for finding **circles**. Use 2 different quantization of $R$ and $\\Theta$: $(R_0,\\Theta_0)=(1,1), (R_0,\\Theta_0)=(4,10) $ as explained in the abstract algorithm mentioned below this section.\n",
        "\n",
        "*Hint:* you should bound your search for radius values 80<R<100.\n"
      ],
      "metadata": {
        "id": "lF9d_WQkzlvp"
      }
    },
    {
      "cell_type": "code",
      "source": [],
      "metadata": {
        "id": "VH2XYmkWz_rZ"
      },
      "execution_count": null,
      "outputs": []
    },
    {
      "cell_type": "markdown",
      "source": [
        "Measure the Run-Time of your function using *time* module for $(R_0,\\Theta_0)=(1,1)$. Try to find $(R_0,\\Theta_0)$ pair that has the same accuracy of $(1,1)$  but runs faster, explain your choice of accuracy measure. What is the $speedup=\\frac{T_{old}}{T_{new}}$ ?  \n"
      ],
      "metadata": {
        "id": "OjrcpMhExIYZ"
      }
    },
    {
      "cell_type": "code",
      "source": [],
      "metadata": {
        "id": "-2eRB1ca0QdE"
      },
      "execution_count": null,
      "outputs": []
    },
    {
      "cell_type": "markdown",
      "source": [],
      "metadata": {
        "id": "-ZwGbWEM0Qve"
      }
    },
    {
      "cell_type": "markdown",
      "source": [
        "This time your Hough matrix is 3D, display one slice (2D image) using *imshow(M,[])* or its Python equivalent for  $(R_0,\\Theta_0)=(1,1)$ ,  $(R_0,\\Theta_0)=(4,10)$, and the set of  $(R_0,\\Theta_0)$ you found in the previous question.\n"
      ],
      "metadata": {
        "id": "oWKkbKUm0RSY"
      }
    },
    {
      "cell_type": "code",
      "source": [],
      "metadata": {
        "id": "BRLDaEwp0ZbZ"
      },
      "execution_count": null,
      "outputs": []
    },
    {
      "cell_type": "markdown",
      "source": [
        "Write you own *dip_houghpeaks3d(HoughMatrix)* function to find the 5 most significant circles of different cups of coffee in the BW image. Plot them on the grayscale coffee image for each quantization (as in the previous subsection), please refer to the note at the end of this question.\n"
      ],
      "metadata": {
        "id": "kwM_N3tn0Zta"
      }
    },
    {
      "cell_type": "code",
      "source": [],
      "metadata": {
        "id": "eBvxfIpE0heU"
      },
      "execution_count": null,
      "outputs": []
    },
    {
      "cell_type": "markdown",
      "source": [
        "Explain the results. In your explanation, consider the advantages and disadvantages of high values of $R_0 ,\\Theta_0$ vs. low values.\n"
      ],
      "metadata": {
        "id": "zcQfxl370h6U"
      }
    },
    {
      "cell_type": "markdown",
      "source": [],
      "metadata": {
        "id": "OH2gq_7c0lKS"
      }
    },
    {
      "cell_type": "markdown",
      "source": [
        "In order to construct the Hough matrix follow these steps:\n",
        "\n",
        "For $BW$  of size $M\\times N$ , create an empty matrix of size $|R|\\times|\\Theta|$ where $|R|$ denotes the length of the vector $R=-\\sqrt{M^2+N^2}:R_0:\\sqrt{M^2+N^2}$ , and $|\\Theta|$ denotes the length of the vector $\\Theta = -90:\\Theta_0:90$ .\n",
        "\n",
        "\n",
        "\n",
        "```\n",
        "For every white pixel in the image, x,y in BW:\n",
        "  For every value in theta in Theta:\n",
        "      r=x*cos(theta)+y*sin(theta)\n",
        "      Add 1 to the Hough matrix at the location corresponding to $r,\\theta$.\n",
        "      Note: you will need to round r for an available r in R   \n",
        "\n",
        "```\n",
        "\n",
        "In order to construct the Hough matrix **for circles** follow\n",
        "these steps:\n",
        "\n",
        "\n",
        "```\n",
        "For BW  of size MxN , create an empty matrix of size MxNx|R| where |R| denotes the length of the vector R=R_min:R_0:R_max\n",
        "  For every white pixel in the image, x,y in BW:\n",
        "    For every value of  r in R:\n",
        "        For every value of theta in 0:Theta_0:360:\n",
        "            a=x-R*cos(theta)\n",
        "            b=y-R*sin(theta)\n",
        "            Add 1 to the Hough matrix at the location corresponding to (a,b,R).\n",
        "(Don't forget to round the values)\n",
        "\n",
        "```\n",
        "\n",
        "\n",
        "\n",
        "\n",
        "**Note:** This time your Hough matrix is 3D, so *houghpeaks*\n",
        "may not work. To find the 5 peaks you may use this code instead :\n",
        "\n",
        "\n",
        "\n",
        "```\n",
        "  import numpy as np\n",
        "  peaks = np.zeros((5, 3), dtype=int)\n",
        "  for i in range(5):\n",
        "        idx = np.unravel_index(np.argmax(H), H.shape)\n",
        "        peaks[i, :] = idx\n",
        "        H[idx] = 0\n",
        "        \n",
        " ```\n",
        "\n",
        "\n",
        "\n",
        "\n"
      ],
      "metadata": {
        "id": "oV51tLFC0w8m"
      }
    },
    {
      "cell_type": "markdown",
      "source": [
        "## 3. Bonus\n",
        "\n",
        "Use the Generalized Hough Transform (GHT) in a creative way. Take\n",
        "two images, one is a binary image of an interesting shape, and the\n",
        "other is an image of your liking. Use the GHT to find the shape of\n",
        "the first image in the second image and show the results. **Be\n",
        "creative! One of the images will be chosen by the course staff and\n",
        "it's authors will receive one bonus point to the final grade.** The\n",
        "staff will judge by the visual result, originality and the code.\n"
      ],
      "metadata": {
        "id": "KnnuZel72Cg4"
      }
    },
    {
      "cell_type": "code",
      "source": [],
      "metadata": {
        "id": "g1zj4BD82OE6"
      },
      "execution_count": null,
      "outputs": []
    }
  ],
  "metadata": {
    "colab": {
      "provenance": [],
      "include_colab_link": true
    },
    "kernelspec": {
      "display_name": "Python 3",
      "name": "python3"
    }
  },
  "nbformat": 4,
  "nbformat_minor": 0
}